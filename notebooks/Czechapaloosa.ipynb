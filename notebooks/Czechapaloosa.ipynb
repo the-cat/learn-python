{
 "cells": [
  {
   "cell_type": "code",
   "execution_count": null,
   "metadata": {},
   "outputs": [],
   "source": [
    "%matplotlib inline"
   ]
  },
  {
   "cell_type": "markdown",
   "metadata": {},
   "source": [
    "# Czechapaloosa 2018\n",
    "## Python Workshop 1 - Introduction to Python\n",
    "### Syntax\n",
    "A very quick intro to Python syntax\n",
    "#### Hello Brno"
   ]
  },
  {
   "cell_type": "code",
   "execution_count": null,
   "metadata": {},
   "outputs": [],
   "source": [
    "print('Ahoj Brno!')"
   ]
  },
  {
   "cell_type": "markdown",
   "metadata": {},
   "source": [
    "#### Braces? What braces?\n",
    "Python uses whitespace to delimit blocks of code. We use a colon (`:`) to indicate the start of a new statement"
   ]
  },
  {
   "cell_type": "code",
   "execution_count": null,
   "metadata": {},
   "outputs": [],
   "source": [
    "if 'Czech' in 'Czechapaloosa':\n",
    "    print('Czech it out!')"
   ]
  },
  {
   "cell_type": "markdown",
   "metadata": {},
   "source": [
    "#### Compound statements\n",
    "Python supports all of the compound statements you would expect, `if`, `while`, `for`, `try`, `with`, `def func`, `class Class` etc.."
   ]
  },
  {
   "cell_type": "markdown",
   "metadata": {},
   "source": [
    "### Data Types\n",
    "An exploration of the different built-in Python data types"
   ]
  },
  {
   "cell_type": "markdown",
   "metadata": {},
   "source": [
    "#### Numeric types\n",
    "Python has two numeric types `int` and `float`"
   ]
  },
  {
   "cell_type": "code",
   "execution_count": null,
   "metadata": {},
   "outputs": [],
   "source": [
    "number_of_employees, number_of_dogs = 157, 12\n",
    "avg_dogs_per_person = 12 / 157\n",
    "\n",
    "print(type(number_of_employees))\n",
    "print(type(number_of_dogs))\n",
    "print(type(avg_dogs_per_person))\n",
    "\n",
    "print('On average we each own {} dogs'.format(avg_dogs_per_person))"
   ]
  },
  {
   "cell_type": "markdown",
   "metadata": {},
   "source": [
    "#### Booleans\n",
    "Python has a few built in constant values - **True**, **False** and **None**. It is worth noting that some non-boolean types hold a **True**y or **False**y value."
   ]
  },
  {
   "cell_type": "code",
   "execution_count": null,
   "metadata": {},
   "outputs": [],
   "source": [
    "falseys = (0, (), [], None, '', {})\n",
    "for val in falseys:\n",
    "    if val:\n",
    "        print(val)"
   ]
  },
  {
   "cell_type": "code",
   "execution_count": null,
   "metadata": {},
   "outputs": [],
   "source": [
    "trueys = (1, (1, ), [1], ' ', {'val': 1})\n",
    "for val in trueys:\n",
    "    if val:\n",
    "        print(val)"
   ]
  },
  {
   "cell_type": "markdown",
   "metadata": {},
   "source": [
    "#### Strings\n",
    "An immutable sequence of characters. We can use single `'` or double `\"` quotes denote strings. We can iterate, index and slice strigs as we would we any other sequence."
   ]
  },
  {
   "cell_type": "code",
   "execution_count": null,
   "metadata": {},
   "outputs": [],
   "source": [
    "my_string = 'czechapaloosa!'\n",
    "print(type(my_string))\n",
    "for char in my_string:\n",
    "    print(char)"
   ]
  },
  {
   "cell_type": "code",
   "execution_count": null,
   "metadata": {},
   "outputs": [],
   "source": [
    "print('czech' in my_string) # check to see if a sub-sequence is in the sequence\n",
    "print(len(my_string)) # len - get the length of a sequence\n",
    "print(my_string[0]) # Lookup a single item based on the index"
   ]
  },
  {
   "cell_type": "markdown",
   "metadata": {},
   "source": [
    "##### Slicing\n",
    "We are able to use slicing syntax `[start:end:step]` on any Python sequence"
   ]
  },
  {
   "cell_type": "code",
   "execution_count": null,
   "metadata": {},
   "outputs": [],
   "source": [
    "print(my_string[0:5]) # Get the first 5 characters\n",
    "print(my_string[-9:]) # Get the last 9 characters\n",
    "print(my_string[::2]) # Get every other character (step 2)"
   ]
  },
  {
   "cell_type": "markdown",
   "metadata": {},
   "source": [
    "##### Methods\n",
    "Strings also have a number of useful methods to make it easy to work with strings. These include `replace`, `split`, `join` etc...\n",
    "\n",
    "#####  String Formatting\n",
    "There are a few different options for formatting strings in Python, which are recommended below.\n",
    "* String interpolation / 'f' Strings (Python 3.6+)\n",
    "* String formatting using `str.format`  "
   ]
  },
  {
   "cell_type": "code",
   "execution_count": null,
   "metadata": {},
   "outputs": [],
   "source": [
    "# Using string interpolation / f strings\n",
    "baggage_allowance = 10\n",
    "message = f'Your baggage allowance for your flight is {baggage_allowance} kgs'\n",
    "print(message)"
   ]
  },
  {
   "cell_type": "code",
   "execution_count": null,
   "metadata": {},
   "outputs": [],
   "source": [
    "baggage_allowance = 10\n",
    "message = 'Your baggage allowance for your flight is {baggage_allowance} kgs'\n",
    "print(message.format(baggage_allowance=baggage_allowance))"
   ]
  },
  {
   "cell_type": "markdown",
   "metadata": {},
   "source": [
    "#### Lists\n",
    "List are normally created using square brackets `[]`. A list is a mutable sequence of elements."
   ]
  },
  {
   "cell_type": "code",
   "execution_count": null,
   "metadata": {},
   "outputs": [],
   "source": [
    "meeting_rooms = ['Desert', 'Beach', 'Rainbow', 'Lake']\n",
    "print(meeting_rooms)\n",
    "print(type(meeting_rooms))"
   ]
  },
  {
   "cell_type": "code",
   "execution_count": null,
   "metadata": {},
   "outputs": [],
   "source": [
    "meeting_rooms[3] = 'Meadow' # Update an item in the list\n",
    "print(meeting_rooms)"
   ]
  },
  {
   "cell_type": "markdown",
   "metadata": {},
   "source": [
    "Since lists are mutable we can modify exising entries in the list or operate on lists using some of the list methods, primarily `append`, `extend`, `remove`."
   ]
  },
  {
   "cell_type": "code",
   "execution_count": null,
   "metadata": {},
   "outputs": [],
   "source": [
    "meeting_rooms.append('Forest') # Add a single new item\n",
    "print(meeting_rooms)\n",
    "meeting_rooms.extend(['Cave', 'Mountain']) # Add all items from another list\n",
    "print(meeting_rooms)"
   ]
  },
  {
   "cell_type": "markdown",
   "metadata": {},
   "source": [
    "##### List Comprehensions\n",
    "Compact syntax for creating lists, usually from other iterables by filtering or manipulating some elements."
   ]
  },
  {
   "cell_type": "code",
   "execution_count": null,
   "metadata": {},
   "outputs": [],
   "source": [
    "numbers = [1, 2, 3, 4, 5, 6, 7, 8, 9]\n",
    "odd_numbers = [num for num in numbers if num % 2] # Using list comprehension\n",
    "print(odd_numbers)"
   ]
  },
  {
   "cell_type": "markdown",
   "metadata": {},
   "source": [
    "Some futher example of list comprehensions"
   ]
  },
  {
   "cell_type": "code",
   "execution_count": null,
   "metadata": {},
   "outputs": [],
   "source": [
    "square_numbers = [num**2 for num in numbers]\n",
    "print(square_numbers)\n",
    "t_rooms = [room for room in meeting_rooms if room[-1] == 't']\n",
    "print(t_rooms)"
   ]
  },
  {
   "cell_type": "markdown",
   "metadata": {},
   "source": [
    "### Exercise - Slicing & List Comprehensions"
   ]
  },
  {
   "cell_type": "markdown",
   "metadata": {},
   "source": [
    "#### 1\n",
    "Use a slice to extract the even numbers from the list."
   ]
  },
  {
   "cell_type": "code",
   "execution_count": null,
   "metadata": {},
   "outputs": [],
   "source": [
    "numbers = [1, 2, 3, 4, 5, 6, 7, 8, 9]\n",
    "even_numbers = numbers[1::2]\n",
    "print(even_numbers)"
   ]
  },
  {
   "cell_type": "markdown",
   "metadata": {},
   "source": [
    "#### 2\n",
    "* Using a slice extract the last 3 sessions of the day\n",
    "* Using a list comprehension create a new list with just the Python sessions \n",
    "* BONUS QUESTION - reimplement the first slice by getting the sessions after 'Lunch'"
   ]
  },
  {
   "cell_type": "code",
   "execution_count": null,
   "metadata": {},
   "outputs": [],
   "source": [
    "sessions = ['Ops Intro', 'Python Workshop 1', 'Lunch', 'Python Workshop 2', 'Dev Catchup', 'Pub']\n",
    "last_3_sessions = sessions[-3:]\n",
    "print(last_3_sessions)\n",
    "python_sessions = [session for session in sessions if 'Python' in session]\n",
    "print(python_sessions)\n",
    "after_lunch_sessions = sessions[sessions.index('Lunch') + 1:]\n",
    "print(after_lunch_sessions)"
   ]
  },
  {
   "cell_type": "markdown",
   "metadata": {},
   "source": [
    "#### Tuples\n",
    "Tuples are similar to lists. They contain a sequence of items and are created using brackets `()`. The main difference is they are immutable. In practice this means there are no methods on the tuple object that will manipulate the object."
   ]
  },
  {
   "cell_type": "code",
   "execution_count": null,
   "metadata": {},
   "outputs": [],
   "source": [
    "meeting_rooms = ('Beach', 'Desert')\n",
    "print(meeting_rooms)\n",
    "print(type(meeting_rooms))"
   ]
  },
  {
   "cell_type": "code",
   "execution_count": null,
   "metadata": {},
   "outputs": [],
   "source": [
    "meeting_rooms[1] = 'Forest' # Can't change existing items"
   ]
  },
  {
   "cell_type": "code",
   "execution_count": null,
   "metadata": {},
   "outputs": [],
   "source": [
    "meeting_rooms.append('Forest') # Can't add new items"
   ]
  },
  {
   "cell_type": "markdown",
   "metadata": {},
   "source": [
    "#### Sets\n",
    "Sets are unordered collections with no duplicates. They are often used for membership testing, removing duplicates and performing set operations. Set can be created using curly braces `{}`, `set()`."
   ]
  },
  {
   "cell_type": "code",
   "execution_count": null,
   "metadata": {},
   "outputs": [],
   "source": [
    "meeting_rooms = {'Desert', 'Beach', 'Rainbow', 'Meadow', 'Forest', 'Cave', 'Mountain'}\n",
    "print(meeting_rooms)\n",
    "print(type(meeting_rooms))"
   ]
  },
  {
   "cell_type": "code",
   "execution_count": null,
   "metadata": {},
   "outputs": [],
   "source": [
    "print('Forest' in meeting_rooms) # Check for membership"
   ]
  },
  {
   "cell_type": "markdown",
   "metadata": {},
   "source": [
    "We can perform set operations using operators or functions of the set object. Set difference using `-` or `.difference`, Set union using `|` or `.union`, Set intersection using `&` or `.intersection`."
   ]
  },
  {
   "cell_type": "code",
   "execution_count": null,
   "metadata": {},
   "outputs": [],
   "source": [
    "basic_lands = set(['Plains', 'Forest', 'Forest', 'Mountain', 'Swamp', 'Island']) # Create and remove duplicates\n",
    "print(basic_lands)\n",
    "print(type(basic_lands))"
   ]
  },
  {
   "cell_type": "code",
   "execution_count": null,
   "metadata": {},
   "outputs": [],
   "source": [
    "print(meeting_rooms - basic_lands) # equivalent to meeting_rooms.difference(basic_lands)\n",
    "print(meeting_rooms | basic_lands) # equivalent to meeting_rooms.union(basic_lands)\n",
    "print(meeting_rooms & basic_lands) # equivalent to meeting_rooms.intersection(basic_lands)"
   ]
  },
  {
   "cell_type": "markdown",
   "metadata": {},
   "source": [
    "#### Dictionaries"
   ]
  },
  {
   "cell_type": "markdown",
   "metadata": {},
   "source": [
    "One of the most useful for types that is used for mapping keys to values. Dictionaries can be created using curly braces `{key: value, ...}` or using the `dict()` function or a dictionary comprehension."
   ]
  },
  {
   "cell_type": "code",
   "execution_count": null,
   "metadata": {},
   "outputs": [],
   "source": [
    "session_attendance = {'Intro': 51, 'Python Workshop': 27, 'Lunch': 48, 'Pub': 65}\n",
    "print(session_attendance)\n",
    "print(type(session_attendance))"
   ]
  },
  {
   "cell_type": "markdown",
   "metadata": {},
   "source": [
    "Using the key to index a dictionary we can get, update or create entries in the dictionary."
   ]
  },
  {
   "cell_type": "code",
   "execution_count": null,
   "metadata": {},
   "outputs": [],
   "source": [
    "if 'Lunch' in session_attendance:\n",
    "    print(session_attendance['Lunch']) # Get an existing value\n",
    "\n",
    "session_attendance['Intro'] = 60 # Update an existing entry\n",
    "session_attendance['K8s Workshop'] = 43 # Create a new entry\n",
    "print(session_attendance)"
   ]
  },
  {
   "cell_type": "markdown",
   "metadata": {},
   "source": [
    "Dictionaries also include functions such as `get`, `keys`, `values` and `update` that are enormously helpful when working with dictionaries."
   ]
  },
  {
   "cell_type": "code",
   "execution_count": null,
   "metadata": {},
   "outputs": [],
   "source": [
    "print(session_attendance['Hackathon'])"
   ]
  },
  {
   "cell_type": "code",
   "execution_count": null,
   "metadata": {},
   "outputs": [],
   "source": [
    "print(session_attendance.get('Hackathon', 100)) # Get will return None or a default value if the key doesn't exist"
   ]
  },
  {
   "cell_type": "code",
   "execution_count": null,
   "metadata": {},
   "outputs": [],
   "source": [
    "meeting_rooms = {'Desert', 'Beach', 'Rainbow', 'Meadow', 'Forest', 'Cave', 'Mountain'}\n",
    "import random\n",
    "\n",
    "room_capacity = {room: random.randint(4, 10) for room in meeting_rooms} # Using dict comprehension\n",
    "print(room_capacity)\n",
    "print(room_capacity.keys())\n",
    "print(room_capacity.values())"
   ]
  },
  {
   "cell_type": "code",
   "execution_count": null,
   "metadata": {},
   "outputs": [],
   "source": [
    "new_rooms = dict([('Swamp', 4), ('Rainbow', 15)])\n",
    "room_capacity.update(new_rooms)\n",
    "print(room_capacity)"
   ]
  },
  {
   "cell_type": "markdown",
   "metadata": {},
   "source": [
    "### Exercise - Working with Dictionaries\n",
    "Combine the two lists `starters` and `mains` and create a `dict` called `dishes` that contains the items from these lists."
   ]
  },
  {
   "cell_type": "code",
   "execution_count": null,
   "metadata": {},
   "outputs": [],
   "source": [
    "starters = [('Zelňačka', ['VG']), ('Cibulačka', ['VG', 'GF'])]\n",
    "mains = [('Guláš', []), ('Jitrnice', []), ('Řízek', ['GF'])]\n",
    "dishes = dict(starters + mains)\n",
    "print(dishes)\n",
    "# YOUR CODE HERE"
   ]
  },
  {
   "cell_type": "markdown",
   "metadata": {},
   "source": [
    "Add the `desserts` to the `dishes` dictionary. Update the Jitrnice dish to be Gluten Free (GF) "
   ]
  },
  {
   "cell_type": "code",
   "execution_count": null,
   "metadata": {},
   "outputs": [],
   "source": [
    "desserts = {'Koláče': ['GF', 'VG'], 'Lívance': ['VG']}\n",
    "dishes.update(desserts)\n",
    "print(desserts)\n",
    "dishes['Jitrnice'] = ['GF']\n",
    "print(dishes)\n",
    "# YOUR CODE HERE"
   ]
  },
  {
   "cell_type": "markdown",
   "metadata": {},
   "source": [
    "Write some code to print two lists of dishes show Vegetarian and Gluten Free options. "
   ]
  },
  {
   "cell_type": "code",
   "execution_count": null,
   "metadata": {},
   "outputs": [],
   "source": [
    "# YOUR CODE HERE\n",
    "veg = [dish for dish, info in dishes.items() if 'VG' in info]\n",
    "print(veg)\n",
    "#gf = [dish for dish in dishes if 'GF' in dishes[dish]]\n",
    "#print(gf)"
   ]
  },
  {
   "cell_type": "markdown",
   "metadata": {},
   "source": [
    "### Functions\n",
    "Functions are objects too! Python comes with many built-in functions such as `print` and we can define our own functions. Functions are created using `def`.\n",
    "\n",
    "Below is a function we can use to calculate the alcohol % of beer!"
   ]
  },
  {
   "cell_type": "code",
   "execution_count": null,
   "metadata": {},
   "outputs": [],
   "source": [
    "def abv(og, fg):\n",
    "    \"\"\" ABV function to calculate the strength of beer\n",
    "    \"\"\"\n",
    "    return round((fg - og) * 131.25, 1)\n",
    "\n",
    "print(round)\n",
    "print(abv)\n",
    "print(abv(0.03, 0.07))"
   ]
  },
  {
   "cell_type": "markdown",
   "metadata": {},
   "source": [
    "#### Function Parameters\n",
    "There are a few options available when creating functions with parameters.\n",
    "##### Named Parameters and Default Values\n",
    "We can pass parameters using thier names. Also we can set default values for arguments not provided."
   ]
  },
  {
   "cell_type": "code",
   "execution_count": null,
   "metadata": {},
   "outputs": [],
   "source": [
    "def screen_area(height, width, bezel=0):\n",
    "    \"\"\" Calculate total screen area considering a bezel size\n",
    "    \"\"\"\n",
    "    return (height - bezel) * (width - bezel)\n",
    "\n",
    "print(screen_area(width=10, height=7))\n",
    "print(screen_area(width=10, height=7, bezel=0.2))"
   ]
  },
  {
   "cell_type": "markdown",
   "metadata": {},
   "source": [
    "##### `*args`\n",
    "For passing any number of unnamed arguments as a sequence"
   ]
  },
  {
   "cell_type": "code",
   "execution_count": null,
   "metadata": {},
   "outputs": [],
   "source": [
    "def product(*args):\n",
    "    result = args[0]\n",
    "    for num in args[1:]:\n",
    "        result *= num  \n",
    "    return result\n",
    "\n",
    "print(product(1, 2))\n",
    "print(product(1, 2, 2))\n",
    "print(product(1, 2, 10))"
   ]
  },
  {
   "cell_type": "markdown",
   "metadata": {},
   "source": [
    "##### `**kwargs`\n",
    "For passing any number of named arguments as a dictionary."
   ]
  },
  {
   "cell_type": "code",
   "execution_count": null,
   "metadata": {},
   "outputs": [],
   "source": [
    "def draw(**kwargs):\n",
    "    blackground_colour = kwargs.get('background_color', 'black')\n",
    "    shadow = kwargs.get('shadow', None)\n",
    "    margin = kwargs.get('margin', 0)\n",
    "    return (blackground_colour, shadow, margin)\n",
    "\n",
    "print(draw())\n",
    "print(draw(shadow='5px', background_color='purple'))"
   ]
  },
  {
   "cell_type": "markdown",
   "metadata": {},
   "source": [
    "### Lambdas\n",
    "Compact syntax for creating small functions"
   ]
  },
  {
   "cell_type": "code",
   "execution_count": null,
   "metadata": {},
   "outputs": [],
   "source": [
    "squared = lambda x: x*x\n",
    "print(squared)\n",
    "print(squared(5))"
   ]
  },
  {
   "cell_type": "markdown",
   "metadata": {},
   "source": [
    "### Generators\n",
    "Generator functions allow you to declare a function that behaves like an iterator, i.e. it can be used in a for loop. These special funtions often allows us to avoid storing big lists in memory as we delay computation of values in the iterator until those values are explicitly requested."
   ]
  },
  {
   "cell_type": "markdown",
   "metadata": {},
   "source": [
    "### Excercise - Functions\n",
    "Create a new function called `register_kill`. This function should accept 3 parameters, `assassin`, `victim` and `weapon` (with a default value of 'toothbrush') and return a formatted `str` with a message detailing the kill.\n",
    "\n",
    "Call your function a few times and print the result."
   ]
  },
  {
   "cell_type": "code",
   "execution_count": null,
   "metadata": {},
   "outputs": [],
   "source": [
    "# YOUR CODE HERE  "
   ]
  },
  {
   "cell_type": "markdown",
   "metadata": {},
   "source": [
    "### Classes\n",
    "We can use Python class definitions to create our own custom types. Class are created using `class` keyword. Typically a class contains a constructor function called `__init__` and also some *fields* and *methods* which can be referenced using **`self`**.\n",
    "\n",
    "Below are two examples of some simple classes. "
   ]
  },
  {
   "cell_type": "code",
   "execution_count": null,
   "metadata": {},
   "outputs": [],
   "source": [
    "from enum import Enum\n",
    "\n",
    "class Permissions(Enum):\n",
    "    \"\"\" Enum class for application permissions\n",
    "    \"\"\"\n",
    "    MICROPHONE = 1\n",
    "    CAMERA = 2\n",
    "    CONTACTS = 3\n",
    "    PICTURES = 4\n",
    "\n",
    "class Category(Enum):\n",
    "    \"\"\" Enum class for application categories \n",
    "    \"\"\"\n",
    "    GAMES = 1\n",
    "    SOCIAL_MEDIA = 2\n",
    "    NEWS = 3"
   ]
  },
  {
   "cell_type": "code",
   "execution_count": null,
   "metadata": {},
   "outputs": [],
   "source": [
    "class Application:\n",
    "    \"\"\" A mobile application\n",
    "    \"\"\"\n",
    "    def __init__(self, name, category, price, permissions):\n",
    "        self.name = name\n",
    "        self.category = category\n",
    "        self.price = price\n",
    "        self.permissions = permissions\n",
    "    \n",
    "    def is_threat(self):\n",
    "        \"\"\" Return true if the app has mic or camera permissions\n",
    "        \"\"\"\n",
    "        return Permissions.MICROPHONE in self.permissions or Permissions.CAMERA in self.permissions"
   ]
  },
  {
   "cell_type": "code",
   "execution_count": null,
   "metadata": {},
   "outputs": [],
   "source": [
    "print(Application)"
   ]
  },
  {
   "cell_type": "markdown",
   "metadata": {},
   "source": [
    "We can create an instance of the object by referencing the class a providing a parameters we specified in init."
   ]
  },
  {
   "cell_type": "code",
   "execution_count": null,
   "metadata": {},
   "outputs": [],
   "source": [
    "linked_in = Application('LinkedIn', Category.SOCIAL_MEDIA, 0, [Permissions.CONTACTS])\n",
    "print(linked_in)"
   ]
  },
  {
   "cell_type": "code",
   "execution_count": null,
   "metadata": {},
   "outputs": [],
   "source": [
    "print(linked_in.name)\n",
    "print(linked_in.permissions)"
   ]
  },
  {
   "cell_type": "code",
   "execution_count": null,
   "metadata": {},
   "outputs": [],
   "source": [
    "print(linked_in.is_threat)"
   ]
  },
  {
   "cell_type": "code",
   "execution_count": null,
   "metadata": {},
   "outputs": [],
   "source": [
    "print(linked_in.is_threat())"
   ]
  },
  {
   "cell_type": "markdown",
   "metadata": {},
   "source": [
    "#### Inheritance\n",
    "As you would expect Python supports inhertance (and multiple inheritance) of classes that represent a type of relationship."
   ]
  },
  {
   "cell_type": "markdown",
   "metadata": {},
   "source": [
    "### Exercise - Classes\n",
    "Create a new class called `Dish` with the following requirements.\n",
    "\n",
    "* The class should have 4 fields, `name` (str), `calories` (int), `vg` (boolean), `gf` (boolean)\n",
    "* Define a method `is_healty_option` to return `True` for vegetarian dishes under 500 calories otherwise `False`\n",
    "* Create a few instances of your class and test this method\n"
   ]
  },
  {
   "cell_type": "code",
   "execution_count": null,
   "metadata": {},
   "outputs": [],
   "source": [
    "# YOUR CODE HERE"
   ]
  },
  {
   "cell_type": "markdown",
   "metadata": {},
   "source": [
    "## Python Workshop 2 - Data Analysis and Pandas\n",
    "Python is the primary language used in data anaylsis and data science. We can leverage the power of various python modules to help us **Load**, **Manipulate**, **Analyse** and **Visualise** data. \n",
    "\n",
    "### Why use Python for Data Analysis?\n",
    "* Programmatic cleaning of data\n",
    "* Automated reproducible analysis\n",
    "* Working with large datasets\n",
    "\n",
    "### Python packages for Data Analysis\n",
    "* `numpy` - fundamental package for scientific computing with Python\n",
    "* `pandas` - powerful Python data analysis toolkit\n",
    "* `matplotlib` - 2D plotting library\n",
    "\n",
    "### Getting Started with Numpy and Pandas\n",
    "We start by importing the following modules"
   ]
  },
  {
   "cell_type": "code",
   "execution_count": null,
   "metadata": {},
   "outputs": [],
   "source": [
    "# By convention we alias these two imports\n",
    "import pandas as pd\n",
    "import numpy as np"
   ]
  },
  {
   "cell_type": "markdown",
   "metadata": {},
   "source": [
    "#### Series\n",
    "1-dimensional labelled array, a bit like a Python `dict`.\n",
    "\n",
    "Here we are creating a new `Series` from a sequence of random numbers. The labels are the automatically generated numbers 0-4."
   ]
  },
  {
   "cell_type": "code",
   "execution_count": null,
   "metadata": {},
   "outputs": [],
   "source": [
    "# Create a series from 5 random numbers\n",
    "s_rand = pd.Series(np.random.rand(5))\n",
    "print(type(s_rand))\n",
    "print(s_rand)"
   ]
  },
  {
   "cell_type": "code",
   "execution_count": null,
   "metadata": {},
   "outputs": [],
   "source": [
    "s_rand.mean()"
   ]
  },
  {
   "cell_type": "markdown",
   "metadata": {},
   "source": [
    "#### Index\n",
    "The index is simply what we use to label in items in our Series.\n",
    "\n",
    "The above series has an index that was created automatically but there are various way to customise the index that we use."
   ]
  },
  {
   "cell_type": "code",
   "execution_count": null,
   "metadata": {},
   "outputs": [],
   "source": [
    "print(s_rand.index) # Print the index of the above series"
   ]
  },
  {
   "cell_type": "code",
   "execution_count": null,
   "metadata": {},
   "outputs": [],
   "source": [
    "s_rand_ints = pd.Series(np.random.randint(1, 100, size=5), index=list('abcde'))\n",
    "print(s_rand_ints)\n",
    "print(s_rand_ints.index)"
   ]
  },
  {
   "cell_type": "markdown",
   "metadata": {},
   "source": [
    "We can use the index to lookup items in the `Series`."
   ]
  },
  {
   "cell_type": "code",
   "execution_count": null,
   "metadata": {},
   "outputs": [],
   "source": [
    "print(s_rand_ints['a'])"
   ]
  },
  {
   "cell_type": "markdown",
   "metadata": {},
   "source": [
    "#### DataFrame\n",
    "2-dimensional labelled array, a bit like a database table, a spreadsheet or a `dict` of `Series`."
   ]
  },
  {
   "cell_type": "code",
   "execution_count": null,
   "metadata": {},
   "outputs": [],
   "source": [
    "# Create a DataFrame from two series a label the columns 'one' and 'two'\n",
    "d = {'one': pd.Series(np.random.rand(3), index=['a', 'b', 'c']),\n",
    "     'two': pd.Series(np.random.rand(3), index=['a', 'b', 'c'])}\n",
    "\n",
    "df = pd.DataFrame(d)\n",
    "print(type(df))\n",
    "df # If the last statement is a DataFrame Jupyter notebook will format it nicely"
   ]
  },
  {
   "cell_type": "markdown",
   "metadata": {},
   "source": [
    "### Loading Data\n",
    "Loading data in Pandas is straightfoward. There is built-in support for loading data from flat files, Excel files, SQL tables, JSON etc...\n",
    "\n",
    "This repository includes a data file about construction of properties in Brno."
   ]
  },
  {
   "cell_type": "code",
   "execution_count": null,
   "metadata": {},
   "outputs": [],
   "source": [
    "df = pd.read_excel('../data/byty_mc.xlsx')\n",
    "df.head()"
   ]
  },
  {
   "cell_type": "markdown",
   "metadata": {},
   "source": [
    "### Inspecting Data\n",
    "The `head` function lets us take a quick look at the first 5 rows in the table"
   ]
  },
  {
   "cell_type": "markdown",
   "metadata": {},
   "source": [
    "* `shape` - returns a tuple of `(#rows, #columns)`\n",
    "* `dtypes` - the data types of the columns\n",
    "* `describe()` - some basic statistics about the data frame"
   ]
  },
  {
   "cell_type": "code",
   "execution_count": null,
   "metadata": {},
   "outputs": [],
   "source": [
    "print(df.shape)\n",
    "print(df.dtypes)"
   ]
  },
  {
   "cell_type": "markdown",
   "metadata": {},
   "source": [
    "`describe` - get some basic statistics about the Data Frame"
   ]
  },
  {
   "cell_type": "code",
   "execution_count": null,
   "metadata": {},
   "outputs": [],
   "source": [
    "df.describe()"
   ]
  },
  {
   "cell_type": "markdown",
   "metadata": {},
   "source": [
    "### Cleaning Data\n",
    "Datasets we load are often likely to contain some 'dirty' data. That could mean some missing data or some data in the wrong type etc.. Pandas include some functions to help us clean up this data. "
   ]
  },
  {
   "cell_type": "markdown",
   "metadata": {},
   "source": [
    "At the moment this data is a little bit messy. We can add some options to our call to `read_excel` to format this data a bit."
   ]
  },
  {
   "cell_type": "code",
   "execution_count": null,
   "metadata": {},
   "outputs": [],
   "source": [
    "df = pd.read_excel('../data/byty_mc.xlsx', \n",
    "              skiprows=3,\n",
    "              usecols=[*range(3,15)], \n",
    "              index_col=0, \n",
    "              names=[str(year) for year in range(2006, 2017)])\n",
    "df.head() # Get the first few rows in the data table"
   ]
  },
  {
   "cell_type": "code",
   "execution_count": null,
   "metadata": {},
   "outputs": [],
   "source": [
    "df.describe()"
   ]
  },
  {
   "cell_type": "code",
   "execution_count": null,
   "metadata": {},
   "outputs": [],
   "source": [
    "df"
   ]
  },
  {
   "cell_type": "code",
   "execution_count": null,
   "metadata": {},
   "outputs": [],
   "source": [
    "df['2007']['Brno-Kníničky']"
   ]
  },
  {
   "cell_type": "code",
   "execution_count": null,
   "metadata": {},
   "outputs": [],
   "source": [
    "df = df.replace('- ', 0)\n",
    "print(df.dtypes)\n",
    "df.describe()"
   ]
  },
  {
   "cell_type": "markdown",
   "metadata": {},
   "source": [
    "### Selecting Data"
   ]
  },
  {
   "cell_type": "markdown",
   "metadata": {},
   "source": [
    "#### `[]` selection\n",
    "Typically used for selecting columns from a DataFrame"
   ]
  },
  {
   "cell_type": "code",
   "execution_count": null,
   "metadata": {},
   "outputs": [],
   "source": [
    "df['2006'].head()"
   ]
  },
  {
   "cell_type": "markdown",
   "metadata": {},
   "source": [
    "#### Boolean indexing\n",
    "We can also select data based on some boolean conditions, similar to using `WHERE` in SQL."
   ]
  },
  {
   "cell_type": "code",
   "execution_count": null,
   "metadata": {},
   "outputs": [],
   "source": [
    "filter_2006 = df['2006'] > 200\n",
    "filter_2006.head()"
   ]
  },
  {
   "cell_type": "markdown",
   "metadata": {},
   "source": [
    "We can apply this filter by simply putting this in square brackets."
   ]
  },
  {
   "cell_type": "code",
   "execution_count": null,
   "metadata": {},
   "outputs": [],
   "source": [
    "df[filter_2006]"
   ]
  },
  {
   "cell_type": "markdown",
   "metadata": {},
   "source": [
    "#### Adding Columns\n",
    "We can add new columns to a DataFrame in a similar way to adding new items to `dict`"
   ]
  },
  {
   "cell_type": "code",
   "execution_count": null,
   "metadata": {},
   "outputs": [],
   "source": [
    "df['total'] = df.sum(axis=1)\n",
    "df.head()"
   ]
  },
  {
   "cell_type": "markdown",
   "metadata": {},
   "source": [
    "### Basic Visualisations"
   ]
  },
  {
   "cell_type": "markdown",
   "metadata": {},
   "source": [
    "Series and DataFrame have some basic built-in plotting "
   ]
  },
  {
   "cell_type": "code",
   "execution_count": null,
   "metadata": {},
   "outputs": [],
   "source": [
    "df['total'].sort_values(ascending=False).plot(kind='bar')"
   ]
  },
  {
   "cell_type": "code",
   "execution_count": null,
   "metadata": {},
   "outputs": [],
   "source": [
    "?? pd.read_csv()"
   ]
  },
  {
   "cell_type": "code",
   "execution_count": null,
   "metadata": {},
   "outputs": [],
   "source": []
  }
 ],
 "metadata": {
  "kernelspec": {
   "display_name": "Python 3",
   "language": "python",
   "name": "python3"
  },
  "language_info": {
   "codemirror_mode": {
    "name": "ipython",
    "version": 3
   },
   "file_extension": ".py",
   "mimetype": "text/x-python",
   "name": "python",
   "nbconvert_exporter": "python",
   "pygments_lexer": "ipython3",
   "version": "3.7.0"
  }
 },
 "nbformat": 4,
 "nbformat_minor": 2
}
