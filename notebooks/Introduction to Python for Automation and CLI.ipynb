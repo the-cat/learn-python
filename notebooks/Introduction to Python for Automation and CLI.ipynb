{
 "cells": [
  {
   "cell_type": "markdown",
   "metadata": {},
   "source": [
    "# Introduction to Python for Automation and CLI\n",
    "A frequent use-case for almost all Python developers is to automate some repetitave tasks to make some part of their working or personal lives that little bit easier. \n",
    "\n",
    "This lesson introduces some concepts to get started with scripting and automation as well as building more complex applications that utilise the command line for user interaction."
   ]
  },
  {
   "cell_type": "markdown",
   "metadata": {},
   "source": [
    "## Getting started with Scripts\n",
    "Jupyter notebook uses IPython which allows us to run blocks of python statements however Typically scripts are developed by creating a python (.py) file and running it using the python runtime executable. Fortunately Jupyter Notebook includes some basic tools to allow us to write some scripts.\n",
    "\n",
    "Included in this repository is a script, `hello_world.py` which demonstrates the basics of running a Python script.\n",
    "\n",
    "We can run this through the Terminal using `python hello_world.py`."
   ]
  },
  {
   "cell_type": "markdown",
   "metadata": {},
   "source": [
    "## User input\n",
    "Modify the script to promt the user to enter their name and birthday."
   ]
  },
  {
   "cell_type": "markdown",
   "metadata": {},
   "source": [
    "## Working with Script Arguments\n",
    "\n",
    "Modify the script to take name and birthday as a parameter"
   ]
  },
  {
   "cell_type": "markdown",
   "metadata": {},
   "source": [
    "### `sys.args`\n",
    "\n",
    "The `sys` built-in module includes a property `args` which is automatically populated with the arguments we provided when running the script."
   ]
  },
  {
   "cell_type": "markdown",
   "metadata": {},
   "source": [
    "### `argparse`\n",
    "Using `sys.args` is often sufficient if we are developing a script that has a small number of potential arguments abd option. The `argsparse` built-in library allows us to provide better handling for script arguments and options."
   ]
  },
  {
   "cell_type": "code",
   "execution_count": null,
   "metadata": {},
   "outputs": [],
   "source": []
  },
  {
   "cell_type": "code",
   "execution_count": null,
   "metadata": {},
   "outputs": [],
   "source": []
  }
 ],
 "metadata": {
  "kernelspec": {
   "display_name": "Python 3",
   "language": "python",
   "name": "python3"
  },
  "language_info": {
   "codemirror_mode": {
    "name": "ipython",
    "version": 3
   },
   "file_extension": ".py",
   "mimetype": "text/x-python",
   "name": "python",
   "nbconvert_exporter": "python",
   "pygments_lexer": "ipython3",
   "version": "3.7.0"
  }
 },
 "nbformat": 4,
 "nbformat_minor": 2
}
