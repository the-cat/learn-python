{
 "cells": [
  {
   "cell_type": "markdown",
   "metadata": {},
   "source": [
    "# Introduction to `asyncio`"
   ]
  },
  {
   "cell_type": "markdown",
   "metadata": {},
   "source": [
    "Parallelism consists of performing multiple operations at the same time. Multiprocessing is a means to effect parallelism, and it entails spreading tasks over a computer's CPUs.\n",
    "\n",
    "Concurrency is a broader term that suggests multiple tasks have the ability to run in an overlapping manner. Threading is a concurrent execution model where multiple threads take turns executing tasks. `asyncio` is a single-threaded, single-process design that uses `cooperative multitasking`. That is it allows the execution thread to switch to a different task while awaiting an otherwise blocking operation to complete.\n",
    "\n",
    "The `asyncio` package was introduced in Python 3.4 alongside two keyword `async` and `await`.\n",
    "\n",
    "### Coroutines\n",
    "\n",
    "At the heart of `asyncio` are coroutines. A coroutine is a function that can suspend its execution before reaching `return`, and it can indirectaly pass control to another coroutines for some time.\n",
    "\n",
    "### Hello World with `asyncio`"
   ]
  },
  {
   "cell_type": "code",
   "execution_count": null,
   "metadata": {},
   "outputs": [],
   "source": [
    "import asyncio\n",
    "\n",
    "async def count():\n",
    "    print(\"One\")\n",
    "    await asyncio.sleep(1)\n",
    "    print(\"Two\")\n",
    "    \n",
    "async def main():\n",
    "    await asyncio.gather(count(), count(), count())\n",
    "    print(f'Executed in {elapsed:0.2f} seconds')\n",
    "    \n",
    "import time\n",
    "\n",
    "s = time.perf_counter()\n",
    "loop = asyncio.get_event_loop()\n",
    "asyncio.run_coroutine_threadsafe(main(), loop)\n",
    "elapsed = time.perf_counter() - s"
   ]
  },
  {
   "cell_type": "markdown",
   "metadata": {},
   "source": [
    "A function introduced with `async def` is a coroutine. Typically this uses `await` and/or `return`. When using `await f()` it requied that `f()` is another coroutine."
   ]
  },
  {
   "cell_type": "code",
   "execution_count": null,
   "metadata": {},
   "outputs": [],
   "source": [
    "import random\n",
    "\n",
    "# ANSI colours\n",
    "\n",
    "c = (\n",
    "'\\033[0m',\n",
    "'\\033[36m',\n",
    "'\\033[91m'\n",
    "'\\033[35m'\n",
    ")\n",
    "\n",
    "async def randint(a, b):\n",
    "    return random.randint(a, b)\n",
    "\n",
    "async def makerandom(idx, threshold=6)\n",
    "    print(c[idx + 1] + f\"Initiated makerandom({idx})\")\n",
    "    i = await randint(0, 10)\n",
    "    while i < threshold:\n",
    "        print(c[idx + 1] + f\"makerandom({idx}) too low; retrying\")\n"
   ]
  }
 ],
 "metadata": {
  "kernelspec": {
   "display_name": "Python 3",
   "language": "python",
   "name": "python3"
  },
  "language_info": {
   "codemirror_mode": {
    "name": "ipython",
    "version": 3
   },
   "file_extension": ".py",
   "mimetype": "text/x-python",
   "name": "python",
   "nbconvert_exporter": "python",
   "pygments_lexer": "ipython3",
   "version": "3.7.0"
  }
 },
 "nbformat": 4,
 "nbformat_minor": 2
}