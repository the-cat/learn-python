{
 "cells": [
  {
   "cell_type": "markdown",
   "metadata": {},
   "source": [
    "# Intermediate Python 1\n",
    "This notebook provides a gentle introduction to some intermediate topics and concepts that are part of the core Python language."
   ]
  },
  {
   "cell_type": "markdown",
   "metadata": {},
   "source": [
    "## Decorators"
   ]
  },
  {
   "cell_type": "markdown",
   "metadata": {},
   "source": [
    "A python decorator is typically applied to a function in Python and usually it modifies the decorated function in some way. They are typically denoted with `@` followed the name of your decorator function. A decorator function returns a function that is called instead of the decorated function.\n",
    "\n",
    "### Built-in Decorators\n",
    "\n",
    "The Python standard library includes some decorators that are built-in functions, usable in without any additional imports. Primarily these are applicable to methods of a particular class.\n",
    "\n",
    "#### `@property`"
   ]
  },
  {
   "cell_type": "code",
   "execution_count": null,
   "metadata": {},
   "outputs": [],
   "source": [
    "class Person:\n",
    "    def __init__(self, first_name, last_name):\n",
    "        self.first_name = first_name\n",
    "        self.last_name = last_name\n",
    "    \n",
    "    @property\n",
    "    def full_name(self):\n",
    "        return f'{self.first_name} {self.last_name}' \n",
    "    \n",
    "    @full_name.setter\n",
    "    def full_name(self, full_name):\n",
    "        names = full_name.split(' ')\n",
    "        self.first_name = names[0]\n",
    "        self.last_name = names[1]\n",
    "        "
   ]
  },
  {
   "cell_type": "code",
   "execution_count": null,
   "metadata": {},
   "outputs": [],
   "source": [
    "person = Person('John', 'Travolta')\n",
    "print(person.first_name)\n",
    "print(person.full_name)\n"
   ]
  },
  {
   "cell_type": "code",
   "execution_count": null,
   "metadata": {},
   "outputs": [],
   "source": [
    "person.full_name = 'Bill Gates'\n",
    "print(person.first_name)\n",
    "print(person.last_name)"
   ]
  },
  {
   "cell_type": "markdown",
   "metadata": {},
   "source": [
    "#### `@staticmethod` and `@classmethod`\n",
    "Transforms functions of a class in to special methods"
   ]
  },
  {
   "cell_type": "code",
   "execution_count": null,
   "metadata": {},
   "outputs": [],
   "source": [
    "from datetime import date\n",
    "\n",
    "class Person:\n",
    "    def __init__(self, first_name, last_name):\n",
    "        self.first_name = first_name\n",
    "        self.last_name = last_name\n",
    "\n",
    "    def get_name(self):\n",
    "        return f'{self.first_name} {self.last_name}' \n",
    "        \n",
    "    @classmethod\n",
    "    def from_dict(cls, details):\n",
    "        return cls(details['first_name'], details['last_name'])\n",
    "    \n",
    "    @staticmethod\n",
    "    def get_age(date_of_birth):\n",
    "        return date.today() - date.fromisoformat(date_of_birth)\n",
    "        "
   ]
  },
  {
   "cell_type": "code",
   "execution_count": null,
   "metadata": {},
   "outputs": [],
   "source": [
    "details = {'last_name': 'Federer', 'city': 'Geneva', 'first_name': 'Roger', 'dob': '1981-04-26'}\n",
    "person = Person.from_dict(details)\n",
    "\n",
    "age = get_age(details['dob'])\n",
    "# We can use date util to get this as a relative date in years\n",
    "print(age)"
   ]
  },
  {
   "cell_type": "markdown",
   "metadata": {},
   "source": [
    "### Custom Decorators\n",
    "\n",
    "A python decorator is typically applied to a function in Python and usually it modifies the decorated function in some way. \n",
    "\n",
    "In most cases we want to *wrap* our decorated function. When we call the function it operates as normal, but the decorator provides a means to do something extra before or after the execution of the function.\n",
    "\n",
    "To understand decorators we need to fully grasp the concept of functions as objects in Python.\n",
    "\n",
    "The below defines a function that returns a given number of random numbers."
   ]
  },
  {
   "cell_type": "code",
   "execution_count": null,
   "metadata": {},
   "outputs": [],
   "source": [
    "import random\n",
    "\n",
    "def get_randoms(num):\n",
    "    return [random.randint(1, 101) for _ in range(num)]"
   ]
  },
  {
   "cell_type": "code",
   "execution_count": null,
   "metadata": {},
   "outputs": [],
   "source": [
    "print(get_randoms)\n",
    "print(get_randoms.__name__)"
   ]
  },
  {
   "cell_type": "code",
   "execution_count": null,
   "metadata": {},
   "outputs": [],
   "source": [
    "get_randoms(10)"
   ]
  },
  {
   "cell_type": "markdown",
   "metadata": {},
   "source": [
    "#### Timing the Function\n",
    "Suppose we want to add a decorator to this function that will allow us to time how long this takes. \n",
    "\n",
    "We can pass this function object to another function (as parameter). We can also have that function that returns another function. In essence a decorator is a function that accepts a function (the decorated function) as a parameter and returns another function that is called instead.\n",
    "\n",
    "To implement our timing decorator we need to write a function that,\n",
    "* Records the start time of our function\n",
    "* Runs the decorated function\n",
    "* Calculates elapsed time and prints the result to the console\n",
    "* Returns the result of the decorated function"
   ]
  },
  {
   "cell_type": "code",
   "execution_count": null,
   "metadata": {},
   "outputs": [],
   "source": [
    "import time\n",
    "\n",
    "def timeit(fn):\n",
    "    def timed_fn(*args, **kwargs):\n",
    "        start_time = time.time()\n",
    "        result = fn(*args, **kwargs)\n",
    "        duration = time.time() - start_time\n",
    "        print(duration)\n",
    "        return result\n",
    "    \n",
    "    return timed_fn"
   ]
  },
  {
   "cell_type": "code",
   "execution_count": null,
   "metadata": {},
   "outputs": [],
   "source": [
    "print(timeit)"
   ]
  },
  {
   "cell_type": "markdown",
   "metadata": {},
   "source": [
    "The `timeit` function accepts a function `fn` as a parameter. We define and return another function `timed_fn` that wraps `fn` and provides the additional timing behaviour."
   ]
  },
  {
   "cell_type": "code",
   "execution_count": null,
   "metadata": {},
   "outputs": [],
   "source": [
    "@timeit\n",
    "def get_randoms(num):\n",
    "    return [random.randint(1, 101) for _ in range(num)]"
   ]
  },
  {
   "cell_type": "code",
   "execution_count": null,
   "metadata": {},
   "outputs": [],
   "source": [
    "randoms = get_randoms(100000)\n",
    "randoms = get_randoms(500000)"
   ]
  },
  {
   "cell_type": "markdown",
   "metadata": {},
   "source": [
    "For wrapping decorators the consensus is to use the `wraps` function in `functools`. This makes sure **special variables** are set correctly."
   ]
  },
  {
   "cell_type": "code",
   "execution_count": null,
   "metadata": {},
   "outputs": [],
   "source": [
    "print(get_randoms.__name__)"
   ]
  },
  {
   "cell_type": "code",
   "execution_count": null,
   "metadata": {},
   "outputs": [],
   "source": [
    "import time\n",
    "import functools\n",
    "\n",
    "def timeit(fn):\n",
    "    @functools.wraps(fn)\n",
    "    def timed_fn(*args, **kwargs):\n",
    "        start_time = time.time()\n",
    "        result = fn(*args, **kwargs)\n",
    "        duration = time.time() - start_time\n",
    "        print(duration)\n",
    "        return result\n",
    "    return timed_fn"
   ]
  },
  {
   "cell_type": "code",
   "execution_count": null,
   "metadata": {},
   "outputs": [],
   "source": [
    "print(get_randoms.__name__)"
   ]
  },
  {
   "cell_type": "markdown",
   "metadata": {},
   "source": [
    "### Excercise\n",
    "#### 1. Logging decorator\n",
    "\n",
    "* Create a new decorator `@logged` to perform some logging (e.g `\"Starting function\"` and `\"Ending function\"`, using the `logging` module) before and after the execution of the decorated function. We should use the `info` function to create INFO level messages.\n",
    "* Redefine the `get_randoms` function to have the `@logged` decorator to demonstrate the logging."
   ]
  },
  {
   "cell_type": "code",
   "execution_count": null,
   "metadata": {},
   "outputs": [],
   "source": [
    "### CODE HERE"
   ]
  },
  {
   "cell_type": "markdown",
   "metadata": {},
   "source": [
    "#### 2. Slow down decorator\n",
    "* Create a new decorator `@slow_down` that makes the decorated function sleeps for 1 second before execution. This should use `time.sleep` from the `time` module.\n",
    "* Define a new function `get_random` that returns a single random number. Decorate this function with `@slow_down`. Redefine `get_randoms` to use this function so that we only generate one random number per second."
   ]
  },
  {
   "cell_type": "code",
   "execution_count": null,
   "metadata": {},
   "outputs": [],
   "source": [
    "### CODE HERE"
   ]
  },
  {
   "cell_type": "markdown",
   "metadata": {},
   "source": [
    "### Advanced use of Decorators\n",
    "There are some more advanced scenarios where we could do one of the following,\n",
    "* Add mulitple decorators to a single function - e.g we might want a function that is both logged and timed\n",
    "* Pass some parameters to our decorator functions - e.g the log level\n",
    "* Decorate classes - we can also use decorators for class definitions"
   ]
  },
  {
   "cell_type": "markdown",
   "metadata": {},
   "source": [
    "## Generators & Iterators"
   ]
  },
  {
   "cell_type": "markdown",
   "metadata": {},
   "source": [
    "Generators are types of functions that allow us to create iterators.\n",
    "Iterators are similar to sequence types like lists however the evaluation of the contents of the sequence is delayed until the values are requested.\n",
    "In this sense the contents of the iterator are \"generated\".\n",
    "\n",
    "Suppose we want to write a function to generate a sequence of square numbers. We could write a function that computes the values up front or (given we want to iterate over these values) we could write a generator function.\n",
    "\n",
    "#### Using a list"
   ]
  },
  {
   "cell_type": "code",
   "execution_count": null,
   "metadata": {},
   "outputs": [],
   "source": [
    "def squares(n):\n",
    "    print(\"Starting\")\n",
    "    return [n*n for n in range(n)]\n",
    "\n",
    "print(squares)\n",
    "print(squares(10))"
   ]
  },
  {
   "cell_type": "markdown",
   "metadata": {},
   "source": [
    "#### Using a generator"
   ]
  },
  {
   "cell_type": "code",
   "execution_count": null,
   "metadata": {},
   "outputs": [],
   "source": [
    "def squares_gen(n):\n",
    "    print(\"Starting\")\n",
    "    for n in range(n):\n",
    "        yield n * n\n",
    "\n",
    "print(squares_gen)\n",
    "print(squares_gen(10))\n",
    "\n",
    "for val in squares_gen(10):\n",
    "    print val"
   ]
  },
  {
   "cell_type": "markdown",
   "metadata": {},
   "source": [
    "Here we have introduced the `yield` keyword, this pauses the function and saves the local state so that it can be resumed where it left off. Python interpreter realises this is a generator function and when this function is called it will return a generator rather than executing the function.\n",
    "\n",
    "A generator is a type of iterator. It implements the special function `__next__` which is used to get the next item in the sequence and allows us to use it in `for` loops in the same way as other sequence types."
   ]
  },
  {
   "cell_type": "code",
   "execution_count": null,
   "metadata": {},
   "outputs": [],
   "source": [
    "squares_list = squares(10)\n",
    "print(squares_list)\n",
    "squares_generator = squares_gen(10)\n",
    "print(squares_generator)"
   ]
  },
  {
   "cell_type": "code",
   "execution_count": null,
   "metadata": {},
   "outputs": [],
   "source": [
    "for square in squares_list:\n",
    "    print(square)\n",
    "\n",
    "for square in squares_generator:\n",
    "    print(square)"
   ]
  },
  {
   "cell_type": "markdown",
   "metadata": {},
   "source": [
    "### Generator Expressions\n",
    "Much like we have list comprehensions, we can use a compact syntex for creating generators. With these kind of expressions we don't need to use `yield` instead we can just `( <genexpr> )`. The above squares generator function can be re-implemented as an expression as demonstrated below."
   ]
  },
  {
   "cell_type": "code",
   "execution_count": null,
   "metadata": {},
   "outputs": [],
   "source": [
    "squares_generator = (n*n for n in range(10))\n",
    "print(squares_generator)"
   ]
  },
  {
   "cell_type": "markdown",
   "metadata": {},
   "source": [
    "### Exercise\n",
    "For the following you have the choice to use a generator function or a generator expression."
   ]
  },
  {
   "cell_type": "markdown",
   "metadata": {},
   "source": [
    "#### 1. Generating formatted strings\n",
    "Given the following list of device versions, write a generator to format these tuples in to strings for example for the tuple `('iOS', 2.3)` we should return the string `\"OS Type:iOs, Version:2.3\"` "
   ]
  },
  {
   "cell_type": "code",
   "execution_count": null,
   "metadata": {},
   "outputs": [],
   "source": [
    "os_versions = [('iOS', 2.3), ('iOS', 2.7), ('iOS', 3.1), ('Android', 5.6), ('Android', 6.1)]"
   ]
  },
  {
   "cell_type": "code",
   "execution_count": null,
   "metadata": {},
   "outputs": [],
   "source": [
    "### CODE HERE"
   ]
  },
  {
   "cell_type": "markdown",
   "metadata": {},
   "source": [
    "#### 2. Implementing a filter function\n",
    "Write a function that `yield`s only the elements that have a Truey value when passed to the given function. Call this function with `devices` to get a generator of OS versions where the OS type is `\"iOS\"` and the version is greater than `2.5`"
   ]
  },
  {
   "cell_type": "code",
   "execution_count": null,
   "metadata": {},
   "outputs": [],
   "source": [
    "def filter_fn(iterable, fn):\n",
    "    ### CODE HERE\n",
    "    pass\n",
    "\n",
    "def is_old_ios(os_version):\n",
    "    ### CODE HERE\n",
    "    pass"
   ]
  }
 ],
 "metadata": {
  "kernelspec": {
   "display_name": "Python 3",
   "language": "python",
   "name": "python3"
  },
  "language_info": {
   "codemirror_mode": {
    "name": "ipython",
    "version": 3
   },
   "file_extension": ".py",
   "mimetype": "text/x-python",
   "name": "python",
   "nbconvert_exporter": "python",
   "pygments_lexer": "ipython3",
   "version": "3.7.0"
  }
 },
 "nbformat": 4,
 "nbformat_minor": 2
}
