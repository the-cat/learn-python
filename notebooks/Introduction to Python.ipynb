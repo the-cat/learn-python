{
 "cells": [
  {
   "cell_type": "markdown",
   "metadata": {},
   "source": [
    "# What is Python?\n",
    "A high-level, multiple purpose programming language that is easy to learn!"
   ]
  },
  {
   "cell_type": "markdown",
   "metadata": {},
   "source": [
    "# Syntax\n",
    "A very quick introduction to Python syntax (isn't it beautful!?)\n",
    "## Hello World!"
   ]
  },
  {
   "cell_type": "code",
   "execution_count": null,
   "metadata": {},
   "outputs": [],
   "source": [
    "print('Hello World!')"
   ]
  },
  {
   "cell_type": "markdown",
   "metadata": {},
   "source": [
    "## Braces? What braces? What no semi-colons!?\n",
    "Python uses whitespace to delimit blocks of code. \n",
    "\n",
    "However we need to use a colon (:) to signal the start of a new block."
   ]
  },
  {
   "cell_type": "code",
   "execution_count": null,
   "metadata": {},
   "outputs": [],
   "source": [
    "if 4 < 5:\n",
    "    print('Maths is great')"
   ]
  },
  {
   "cell_type": "markdown",
   "metadata": {},
   "source": [
    "## Compound statements\n",
    "Statements that can include other statements. `if`, `while`, `for`, `try`, `with`, `def func`, `class Class`. "
   ]
  },
  {
   "cell_type": "markdown",
   "metadata": {},
   "source": [
    "# Data Types\n",
    "## Numeric types\n",
    "Python has two main numeric types `int` and `float`"
   ]
  },
  {
   "cell_type": "code",
   "execution_count": null,
   "metadata": {},
   "outputs": [],
   "source": [
    "number_of_spartans = 300\n",
    "pi = 3.14159\n",
    "\n",
    "print(type(number_of_spartans))\n",
    "print(type(pi))"
   ]
  },
  {
   "cell_type": "markdown",
   "metadata": {},
   "source": [
    "## Booleans\n",
    "Python has a few built in constant values. **True**, **False** and **None**.\n",
    "It is worth noting that some non-boolean types hold a **Truey** or **Falsey** value."
   ]
  },
  {
   "cell_type": "code",
   "execution_count": null,
   "metadata": {},
   "outputs": [],
   "source": [
    "falseys = (0, (), [], None, '', {})\n",
    "for val in falseys:\n",
    "    if val:\n",
    "        print(val)"
   ]
  },
  {
   "cell_type": "code",
   "execution_count": null,
   "metadata": {},
   "outputs": [],
   "source": [
    "trueys = (1, (1, ), [1], ' ', {'val': 1})\n",
    "for val in trueys:\n",
    "    if val:\n",
    "        print(val)"
   ]
  },
  {
   "cell_type": "markdown",
   "metadata": {},
   "source": [
    "### is\n",
    "the **is** keyword can be used to compare object identity. It's not used too often but can be useful to check something is **None** "
   ]
  },
  {
   "cell_type": "markdown",
   "metadata": {},
   "source": [
    "### or... or\n",
    "Since non-boolean types can be logically compared the behaviour of the operators is a bit strange."
   ]
  },
  {
   "cell_type": "code",
   "execution_count": null,
   "metadata": {},
   "outputs": [],
   "source": [
    "print([] or 50)"
   ]
  },
  {
   "cell_type": "markdown",
   "metadata": {},
   "source": [
    "## Sequence types\n",
    "Many of Python's built in types are sequences. You can easily iterate through the items in a sequence, reference items by their index and you can use special *slicing* syntax to extract parts of the sequence."
   ]
  },
  {
   "cell_type": "markdown",
   "metadata": {},
   "source": [
    "## `string` - the text sequence type\n",
    "An immutable sequence of characters. Because it is a sequence we can iterate over our string!"
   ]
  },
  {
   "cell_type": "code",
   "execution_count": null,
   "metadata": {},
   "outputs": [],
   "source": [
    "for char in 'a string!':\n",
    "    print(char)"
   ]
  },
  {
   "cell_type": "markdown",
   "metadata": {},
   "source": [
    "Get an item by it's index"
   ]
  },
  {
   "cell_type": "code",
   "execution_count": null,
   "metadata": {},
   "outputs": [],
   "source": [
    "name = 'felix'\n",
    "\n",
    "print('f' in name) # check to see if a sub-sequence is in the sequence\n",
    "print(len(name)) # len - get the length of a sequence\n",
    "print(name[0])"
   ]
  },
  {
   "cell_type": "markdown",
   "metadata": {},
   "source": [
    "Select parts of the sequence"
   ]
  },
  {
   "cell_type": "code",
   "execution_count": null,
   "metadata": {},
   "outputs": [],
   "source": [
    "animal = 'horsefly'\n",
    "print(animal[0:5])\n",
    "print(animal[-3:])\n",
    "print(animal[::3])"
   ]
  },
  {
   "cell_type": "markdown",
   "metadata": {},
   "source": [
    "Additionally `string`s have loads of really useful methods"
   ]
  },
  {
   "cell_type": "code",
   "execution_count": null,
   "metadata": {},
   "outputs": [],
   "source": [
    "new_animal = animal.replace('fly', 'man')\n",
    "print(new_animal)"
   ]
  },
  {
   "cell_type": "code",
   "execution_count": null,
   "metadata": {},
   "outputs": [],
   "source": [
    "animals = ('duck', 'duck', 'goose')\n",
    "game = '-'.join(animals) \n",
    "print(game)"
   ]
  },
  {
   "cell_type": "code",
   "execution_count": null,
   "metadata": {},
   "outputs": [],
   "source": [
    "animals = game.split('-')\n",
    "print(animals)"
   ]
  },
  {
   "cell_type": "markdown",
   "metadata": {},
   "source": [
    "#### A special note about `format` a FStrings\n",
    "Special syntax for formatting strings"
   ]
  },
  {
   "cell_type": "code",
   "execution_count": null,
   "metadata": {},
   "outputs": [],
   "source": [
    "print('{} has a {}'.format('Felix the Cat', 'Magic Handbag'))\n",
    "print('{predator} eats {prey}'.format(prey='Human', predator='Bear'))"
   ]
  },
  {
   "cell_type": "code",
   "execution_count": null,
   "metadata": {},
   "outputs": [],
   "source": [
    "\n",
    "print(f'')"
   ]
  },
  {
   "cell_type": "markdown",
   "metadata": {},
   "source": [
    "## `tuple` ( )\n",
    "*Immutable* ordered sequence of objects."
   ]
  },
  {
   "cell_type": "code",
   "execution_count": null,
   "metadata": {},
   "outputs": [],
   "source": [
    "stations = ('Brixton', 'Stockwell', 'Vauxhall', 'Pimlico', 'Victoria', 'Green Park')\n",
    "for station in stations:\n",
    "    print('The next stop is {}'.format(station))"
   ]
  },
  {
   "cell_type": "markdown",
   "metadata": {},
   "source": [
    "## `list` [ ]\n",
    "*Mutable* ordered sequence of objects. In other words, we can add/remove items.\n",
    "\n",
    "**append**"
   ]
  },
  {
   "cell_type": "code",
   "execution_count": null,
   "metadata": {},
   "outputs": [],
   "source": [
    "staff = ['Bob', 'Gary', 'Sally']\n",
    "staff.append('Kat')\n",
    "print(staff)"
   ]
  },
  {
   "cell_type": "markdown",
   "metadata": {},
   "source": [
    "**remove**"
   ]
  },
  {
   "cell_type": "code",
   "execution_count": null,
   "metadata": {},
   "outputs": [],
   "source": [
    "staff.remove('Bob')\n",
    "print(staff)"
   ]
  },
  {
   "cell_type": "markdown",
   "metadata": {},
   "source": [
    "**extend**"
   ]
  },
  {
   "cell_type": "code",
   "execution_count": null,
   "metadata": {},
   "outputs": [],
   "source": [
    "staff.extend(['Tony', 'Joe', 'Louise'])\n",
    "print(staff)"
   ]
  },
  {
   "cell_type": "markdown",
   "metadata": {},
   "source": [
    "#### List Comprehensions\n",
    "Compact syntax for creating lists"
   ]
  },
  {
   "cell_type": "code",
   "execution_count": null,
   "metadata": {},
   "outputs": [],
   "source": [
    "coords = [(2.4, 343.4), (17.5, 4.3), (132.5, 654.3), (456.5, 234.3)]\n",
    "big_xs = [x for x, y in coords if x > 100]\n",
    "print(big_xs)"
   ]
  },
  {
   "cell_type": "markdown",
   "metadata": {},
   "source": [
    "## `set`\n",
    "An unordered collection of unique objects. Sets can be created using the `set` built-in function or the braces `{1,2,3}` syntax in Python 3."
   ]
  },
  {
   "cell_type": "code",
   "execution_count": null,
   "metadata": {},
   "outputs": [],
   "source": [
    "a = [1,2,4,2,1,1,2,3,2,1,2,4,3,2]\n",
    "my_set = set(a)\n",
    "print(my_set)"
   ]
  },
  {
   "cell_type": "markdown",
   "metadata": {},
   "source": [
    "Generally speaking sets are modifiable through functions such as `add` and `remove`. They also have many useful functions for operating on sets, for example `union` and `intersection`."
   ]
  },
  {
   "cell_type": "code",
   "execution_count": null,
   "metadata": {},
   "outputs": [],
   "source": [
    "my_subjects = {'Maths', 'Chemistry', 'English', 'History', 'Physics'}\n",
    "your_subjects = {'Maths', 'Maths', 'History', 'Geography', 'Computing'}\n",
    "\n",
    "print('All subjects: {}'.format(my_subjects.union(your_subjects)))\n",
    "print('Shared subjects: {}'.format(my_subjects.intersection(your_subjects)))"
   ]
  },
  {
   "cell_type": "markdown",
   "metadata": {},
   "source": [
    "## Generators - a quick note\n",
    "Collections aren't the only thing that we can iterate over. Certain functions containing the `yield` keyword may return a **generator** type of object rather than a collection. These behave in a similar way however the items are generated during iteration rather than being computed up-front."
   ]
  },
  {
   "cell_type": "markdown",
   "metadata": {},
   "source": [
    "## Mapping types `dict` { }\n",
    "Key-Value pair mappings. There are a few different way to create a dictionary."
   ]
  },
  {
   "cell_type": "code",
   "execution_count": null,
   "metadata": {},
   "outputs": [],
   "source": [
    "device_platforms = {'iPhone 6': 'iOS', 'iPhone 8': 'iOS', 'Samsung Galaxy': 'Android'}\n",
    "print(device_platforms)\n",
    "car_makes = dict([('Astra', 'Vauxhall'), ('Civic', 'Honda'), ('Focus', 'Ford')])\n",
    "print(car_makes)"
   ]
  },
  {
   "cell_type": "markdown",
   "metadata": {},
   "source": [
    "### `[]` notation \n",
    "Used to add, update and get items from the dictionary."
   ]
  },
  {
   "cell_type": "code",
   "execution_count": null,
   "metadata": {},
   "outputs": [],
   "source": [
    "# Get an item from the dictionary\n",
    "print(car_makes['Astra'])"
   ]
  },
  {
   "cell_type": "code",
   "execution_count": null,
   "metadata": {},
   "outputs": [],
   "source": [
    "# Will throw an exception if the key is missing\n",
    "print(car_makes['Viper'])"
   ]
  },
  {
   "cell_type": "code",
   "execution_count": null,
   "metadata": {},
   "outputs": [],
   "source": [
    "# So let's add it\n",
    "if 'Viper' not in 'car_makes':\n",
    "    car_makes['Viper'] = 'Dodge'\n",
    "print(car_makes)\n",
    "print(car_makes['Viper'])"
   ]
  },
  {
   "cell_type": "code",
   "execution_count": null,
   "metadata": {},
   "outputs": [],
   "source": [
    "# We can also use this for updates\n",
    "car_makes['Focus'] = 'Bored'\n",
    "print(car_makes)"
   ]
  },
  {
   "cell_type": "markdown",
   "metadata": {},
   "source": [
    "### Dictionary methods\n",
    "The dictionary type also provides some really useful methods"
   ]
  },
  {
   "cell_type": "code",
   "execution_count": null,
   "metadata": {},
   "outputs": [],
   "source": [
    "for device, platform in device_platforms.items():\n",
    "    print('{} runs {}'.format(device, platform))"
   ]
  },
  {
   "cell_type": "markdown",
   "metadata": {},
   "source": [
    "`get` Get the item from the dictionary but return *None* if the key is missing  \n",
    "`pop` Remove an item from the dictionary  \n",
    "`keys` Get the keys  \n",
    "`values` Get the values  \n",
    "`items` Get the items (keys and values)  \n",
    "`update` Update a dictionary using key and values from a second dictionary  "
   ]
  },
  {
   "cell_type": "markdown",
   "metadata": {},
   "source": [
    "# Data types - Exercise"
   ]
  },
  {
   "cell_type": "code",
   "execution_count": null,
   "metadata": {},
   "outputs": [],
   "source": [
    "star_signs = {'Marta': 'Gemini', 'Pavel': 'Leo', 'Feliks': 'Aquarious', 'Beata': 'Libra', 'Marek': 'Gemini'}\n",
    "# Given this dictionary of star signs return\n",
    "\n",
    "# 1. print the name of everyone who is 'Gemini'\n",
    "\n",
    "# 2. print the name of people whose name ends in 'a'"
   ]
  },
  {
   "cell_type": "code",
   "execution_count": null,
   "metadata": {},
   "outputs": [],
   "source": [
    "error_details = (\n",
    "                 {'ERROR_TYPE': 'DivisionByZero', \n",
    "                  'ERROR_MESSAGE': 'Cannot divide by zero'},\n",
    "                 \n",
    "                 {'ERROR_TYPE': 'TypeError', \n",
    "                  'ERROR_MESSAGE': 'str has no method \"extend\"', \n",
    "                  'STACKTRACE': 'script.py (line 35)'}\n",
    "                )\n",
    "# Given a tuple of error details, print the output in a nice format"
   ]
  },
  {
   "cell_type": "markdown",
   "metadata": {},
   "source": [
    "# Functions\n",
    "Functions are objects too!\n",
    "\n",
    "### `def`ining Functions\n",
    "Use `def` and a sequence of arguments to define a function"
   ]
  },
  {
   "cell_type": "code",
   "execution_count": null,
   "metadata": {},
   "outputs": [],
   "source": [
    "def add(a, b):\n",
    "    return a + b\n",
    "\n",
    "def square(a):\n",
    "    return a * a\n",
    "\n",
    "print(add)\n",
    "print(square)\n",
    "\n",
    "print(add(1, 2))\n",
    "print(square(5))"
   ]
  },
  {
   "cell_type": "markdown",
   "metadata": {},
   "source": [
    "### Function arguments\n",
    "Functions can have default parameters"
   ]
  },
  {
   "cell_type": "code",
   "execution_count": null,
   "metadata": {},
   "outputs": [],
   "source": [
    "def screen_area(height, width, bezel=0):\n",
    "    return (height - bezel) * (width - bezel)\n",
    "\n",
    "print(screen_area(12, 20))\n",
    "print(screen_area(12, 20, 2))\n",
    "    "
   ]
  },
  {
   "cell_type": "markdown",
   "metadata": {},
   "source": [
    "Function arguments can be passed using their names"
   ]
  },
  {
   "cell_type": "code",
   "execution_count": null,
   "metadata": {},
   "outputs": [],
   "source": [
    "def abv(og, fg):\n",
    "    return (fg - og) * 131.25\n",
    "\n",
    "print(abv(fg=0.2, og=0.1))"
   ]
  },
  {
   "cell_type": "markdown",
   "metadata": {},
   "source": [
    "**\\*** for passing any number of unnamed arguments"
   ]
  },
  {
   "cell_type": "code",
   "execution_count": null,
   "metadata": {},
   "outputs": [],
   "source": [
    "def product(*args):\n",
    "    result = args[0]\n",
    "    for num in args[1:]:\n",
    "        result *= num  \n",
    "    return result\n",
    "\n",
    "print(product(1, 2))\n",
    "print(product(1, 2, 2))\n",
    "print(product(1, 2, 10))"
   ]
  },
  {
   "cell_type": "markdown",
   "metadata": {},
   "source": [
    "**\\**** for passing any number of named keyword arguments"
   ]
  },
  {
   "cell_type": "code",
   "execution_count": null,
   "metadata": {},
   "outputs": [],
   "source": [
    "def draw(**kwargs):\n",
    "    blackground_colour = kwargs.get('background_color', 'black')\n",
    "    shadow = kwargs.get('shadow', None)\n",
    "    margin = kwargs.get('margin', 0)\n",
    "    return (blackground_colour, shadow, margin)\n",
    "\n",
    "print(draw())\n",
    "print(draw(shadow='5px', background_color='purple'))"
   ]
  },
  {
   "cell_type": "markdown",
   "metadata": {},
   "source": [
    "**\\*** and **\\**** can also be used to unpack arguments when calling a function"
   ]
  },
  {
   "cell_type": "markdown",
   "metadata": {},
   "source": [
    "### Lambdas\n",
    "Concise syntax for defining a simple function."
   ]
  },
  {
   "cell_type": "code",
   "execution_count": null,
   "metadata": {},
   "outputs": [],
   "source": [
    "squared = lambda x: x*x\n",
    "print(squared)\n",
    "print(squared(5))"
   ]
  },
  {
   "cell_type": "markdown",
   "metadata": {},
   "source": [
    "# Classes\n",
    "Python also supports class defintions which can be used to make our own objects! Woo!\n",
    "\n",
    "The below example show a basic class with a constructor `__init__`, and a single method `screen_area`."
   ]
  },
  {
   "cell_type": "code",
   "execution_count": null,
   "metadata": {},
   "outputs": [],
   "source": [
    "class Device:\n",
    "    def __init__(self, height, width, bezel=0):\n",
    "        self.height = height\n",
    "        self.width = width\n",
    "        self.bezel = bezel\n",
    "    \n",
    "    def screen_area(self):\n",
    "        return (self.height - self.bezel) * (self.width - self.bezel)\n",
    "    \n",
    "    def get_os(self):\n",
    "        return 'Android'\n",
    "    \n",
    "lg = Device(20, 10)\n",
    "samsung = Device(20, 10, 2)"
   ]
  },
  {
   "cell_type": "code",
   "execution_count": null,
   "metadata": {},
   "outputs": [],
   "source": [
    "print(type(lg)) # Type of the instance\n",
    "print(lg.height) # Instance variable\n",
    "print(lg.screen_area) # Instance method\n",
    "\n",
    "print('LG screen area\": {}'.format(lg.screen_area()))\n",
    "print('Samsung screen area\": {}'.format(samsung.screen_area()))"
   ]
  },
  {
   "cell_type": "markdown",
   "metadata": {},
   "source": [
    "## Inheritance\n",
    "As you would expect Python supports inhertance (and multiple inheritance) of classes that represent a *type of* relationship."
   ]
  },
  {
   "cell_type": "code",
   "execution_count": null,
   "metadata": {},
   "outputs": [],
   "source": [
    "class IPhone(Device):\n",
    "    def __init__(self, height, width):\n",
    "        super(IPhone, self).__init__(height, width)\n",
    "    \n",
    "    def get_os(self):\n",
    "        return 'iOs'\n",
    "\n",
    "iphone = IPhone(10, 8)"
   ]
  },
  {
   "cell_type": "code",
   "execution_count": null,
   "metadata": {},
   "outputs": [],
   "source": [
    "print(type(iphone)) # Type of the instance\n",
    "print(iphone.height) # Instance variable\n",
    "print(iphone.screen_area) # Instance method\n",
    "\n",
    "print('iPhone screen area\": {}'.format(iphone.screen_area()))"
   ]
  },
  {
   "cell_type": "markdown",
   "metadata": {},
   "source": [
    "# Classes - Exercise\n",
    "Write a class defintion for a mobile `Application`. The class should have the following properties\n",
    "* `name`\n",
    "* `category`\n",
    "* `price`\n",
    "* `permissions` a subset of the following (`contacts`, `storage`, `microphone`, `camera`)\n",
    "\n",
    "It should also implement a method `is_threat` that should return a `True` value if either `microphone` or `camera` are in the set of permissions and a `False` value otherwise.\n",
    "\n",
    "Create a few instances of these classes to test your function."
   ]
  },
  {
   "cell_type": "code",
   "execution_count": null,
   "metadata": {},
   "outputs": [],
   "source": [
    "# <--- Your code here --->"
   ]
  },
  {
   "cell_type": "markdown",
   "metadata": {},
   "source": [
    "# Built-in Functions\n",
    "## Type built-in functions\n",
    "### `type`, `isinstance`, `issubclass`"
   ]
  },
  {
   "cell_type": "code",
   "execution_count": null,
   "metadata": {},
   "outputs": [],
   "source": [
    "cls = type(0.5)\n",
    "print(cls)\n",
    "print(isinstance(3.14159, float))\n",
    "\n",
    "from numbers import Number\n",
    "print(issubclass(float, Number))"
   ]
  },
  {
   "cell_type": "markdown",
   "metadata": {},
   "source": [
    "## Conversion built-in functions \n",
    "### `bool`, `int`, `dict`, `set`, `tuple`, `list`, `str`, `float`\n",
    "Used for converting objects between different basic types"
   ]
  },
  {
   "cell_type": "markdown",
   "metadata": {},
   "source": [
    "## Sequence built-in functions\n",
    "### `len`\n",
    "Get the length of a sequence\n",
    "### `any` & `all`\n",
    "Check to see if any or all of the items in the sequence have a True value"
   ]
  },
  {
   "cell_type": "code",
   "execution_count": null,
   "metadata": {},
   "outputs": [],
   "source": [
    "drinks = ['Coke', 'Diet Coke', 'Double Vodka Shot', None, 'Water', 'Pale Ale']\n",
    "print(all(drinks))\n",
    "print(any([drink and 'Coke' in drink for drink in drinks]))"
   ]
  },
  {
   "cell_type": "markdown",
   "metadata": {},
   "source": [
    "### `filter`\n",
    "Remove particular items from a sequence based on the provided function"
   ]
  },
  {
   "cell_type": "code",
   "execution_count": null,
   "metadata": {},
   "outputs": [],
   "source": [
    "results = filter(lambda x:x, drinks)\n",
    "print(type(results))\n",
    "drinks = list(results)\n",
    "print(drinks)"
   ]
  },
  {
   "cell_type": "markdown",
   "metadata": {},
   "source": [
    "### `min`, `max` and `sorted`"
   ]
  },
  {
   "cell_type": "code",
   "execution_count": null,
   "metadata": {},
   "outputs": [],
   "source": [
    "print(min(drinks))\n",
    "print(max(drinks))\n",
    "print(sorted(drinks))"
   ]
  },
  {
   "cell_type": "markdown",
   "metadata": {},
   "source": [
    "### `map`\n",
    "Apply a function to all items in a sequence"
   ]
  },
  {
   "cell_type": "code",
   "execution_count": null,
   "metadata": {},
   "outputs": [],
   "source": [
    "squared = lambda x:x*x\n",
    "numbers = [1, 2, 3, 4, 5, 6, 7]\n",
    "results = map(squared, numbers)\n",
    "print(type(results))\n",
    "print(list(results))"
   ]
  },
  {
   "cell_type": "markdown",
   "metadata": {},
   "source": [
    "### `open`\n",
    "Open a file - use `mode` argument to specify read/write. Often used in combination with the `with` keyword."
   ]
  },
  {
   "cell_type": "markdown",
   "metadata": {},
   "source": [
    "# The `import` statement and standard library modules\n",
    "A **module** is essentially a python (.py) file in a folder containing an `__init__.py` file.\n",
    "\n",
    "There are many additional modules available in the standard Python library. We use the `import` and `from` keywords  to access variables, classes and functions from other modules.\n",
    "\n",
    "There are well over 100 different standard library modules, here are a few of them...\n",
    "\n",
    "`string`, `re`, `datetime`, `calender`, `collections`, `array`, `types`, `copy`, `pprint`, `enum`, `numbers`, `math`, `cmath`, `decimal`, `fractions`, `random`, `statistics`, `itertools`, `functools`, `operator`, `pickle`, `dbm`, `sqllite3`, `gzip`, `bz2`, `lzma`, `zipfile`, `tarfile`, `csv`, `configparser`, `os`, `io`, `time`, `argparse`, `logging`, `threading`, `multiprocessing`, `socket`, `json`, `email`, `html`, `urllib`, `tkinter`, `pydoc`, `unittest`, `timeit`, `sys`, `gc`\n",
    "\n",
    "## Useful standard library modules\n",
    "The standard library modules you end up using will depend on the exact nature of your application. However there are some modules that are frequently used in almost all projects.\n",
    "### `logging`"
   ]
  },
  {
   "cell_type": "code",
   "execution_count": null,
   "metadata": {},
   "outputs": [],
   "source": [
    "import logging\n",
    "logging.error('Catastrophic failure')"
   ]
  },
  {
   "cell_type": "markdown",
   "metadata": {},
   "source": [
    "### `datetime`"
   ]
  },
  {
   "cell_type": "code",
   "execution_count": null,
   "metadata": {},
   "outputs": [],
   "source": [
    "from datetime import date, datetime\n",
    "\n",
    "felix_birthday = date(1990, 6, 7)\n",
    "today = date.today()\n",
    "datediff = today - felix_birthday\n",
    "print(datediff.days)\n"
   ]
  }
 ],
 "metadata": {
  "kernelspec": {
   "display_name": "Python 3",
   "language": "python",
   "name": "python3"
  },
  "language_info": {
   "codemirror_mode": {
    "name": "ipython",
    "version": 3
   },
   "file_extension": ".py",
   "mimetype": "text/x-python",
   "name": "python",
   "nbconvert_exporter": "python",
   "pygments_lexer": "ipython3",
   "version": "3.7.0"
  }
 },
 "nbformat": 4,
 "nbformat_minor": 2
}
